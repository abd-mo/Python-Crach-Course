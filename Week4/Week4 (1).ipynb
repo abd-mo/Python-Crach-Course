{
 "cells": [
  {
   "cell_type": "code",
   "execution_count": 8,
   "metadata": {},
   "outputs": [
    {
     "name": "stdout",
     "output_type": "stream",
     "text": [
      "0\n",
      "1\n",
      "2\n",
      "3\n",
      "4\n",
      "5\n",
      "6\n",
      "7\n",
      "8\n",
      "9\n",
      "10\n",
      "while loop is finished \n"
     ]
    }
   ],
   "source": [
    "#while loop example 1\n",
    "\n",
    "#write a program to print from 0 to 10 using while loop\n",
    "\n",
    "i=0          #initialize value\n",
    "\n",
    "while i <= 10:   # the program will check if i < 10 ,if it was true will get inside the while loop body\n",
    "    \n",
    "    print(i)    #print i on the screen screen \n",
    "    \n",
    "    i = i+1   #Increase by 1\n",
    "    \n",
    "    \n",
    "print(\"while loop is finished \") # print this line when the loop is finished\n"
   ]
  },
  {
   "cell_type": "code",
   "execution_count": 7,
   "metadata": {},
   "outputs": [
    {
     "name": "stdout",
     "output_type": "stream",
     "text": [
      "enter  number : 1\n",
      "enter  number : 10\n",
      "2\n",
      "4\n",
      "6\n",
      "8\n",
      "10\n"
     ]
    }
   ],
   "source": [
    "#while loop example 2\n",
    "\n",
    "# make a programe to  print even numbers between two numbers  using while loop\n",
    "\n",
    "i=int(input(\"enter  frist number : \"))\n",
    "x=int(input(\"enter last number : \"))\n",
    "\n",
    "\n",
    "\n",
    "while(i<=x):\n",
    "    if(i%2==0):\n",
    "        print(i)\n",
    "    i+=1\n",
    "        "
   ]
  },
  {
   "cell_type": "code",
   "execution_count": 10,
   "metadata": {},
   "outputs": [
    {
     "name": "stdout",
     "output_type": "stream",
     "text": [
      "loop body\n",
      "loop body\n",
      "loop body\n",
      "else body\n"
     ]
    }
   ],
   "source": [
    "#while loop example 3  (while loop ) with  else\n",
    "\n",
    "t = 0\n",
    "\n",
    "while t < 3:\n",
    "    print(\"loop body\")\n",
    "    t = t + 1\n",
    "else:\n",
    "    print(\"else body\")"
   ]
  },
  {
   "cell_type": "code",
   "execution_count": 27,
   "metadata": {},
   "outputs": [
    {
     "name": "stdout",
     "output_type": "stream",
     "text": [
      "M\n",
      "u\n",
      "g\n",
      "l\n",
      "a\n",
      " \n",
      "u\n",
      "n\n",
      "i\n",
      "v\n",
      "e\n",
      "r\n",
      "s\n",
      "i\n",
      "t\n",
      "y\n",
      "No letter left.\n"
     ]
    }
   ],
   "source": [
    "#for loop with else\n",
    "sen = \"Mugla university\"\n",
    "\n",
    "for i in sen :\n",
    "    print(i)\n",
    "else:\n",
    "    print(\"No letter left.\")"
   ]
  },
  {
   "cell_type": "code",
   "execution_count": 4,
   "metadata": {},
   "outputs": [],
   "source": [
    "#while loop example 4  (The infinite loop ) \n",
    "\n",
    "i=0\n",
    "\n",
    "#while 1:   # the program will e\n",
    "    \n",
    "   # print(i)    #print i on the screen screen \n",
    "    \n",
    "   # i = i+1   #Increase by 1\n",
    "    \n"
   ]
  },
  {
   "cell_type": "code",
   "execution_count": 5,
   "metadata": {},
   "outputs": [],
   "source": [
    "#while loop example 5  (The infinite loop )\n",
    "\n",
    "#while True:\n",
    "    \n",
    "   # num = int(input(\"Enter an integer: \"))\n",
    "    #print(\"The double of\",num,\"is\",2 * num)"
   ]
  },
  {
   "cell_type": "code",
   "execution_count": 16,
   "metadata": {},
   "outputs": [
    {
     "name": "stdout",
     "output_type": "stream",
     "text": [
      "Number is 1\n",
      "Number is 2\n",
      "Number is 3\n",
      "Number is 4\n",
      "Out of loop\n"
     ]
    }
   ],
   "source": [
    "# break statement\n",
    "number = 0\n",
    "\n",
    "for number in range(10):\n",
    "    number = number + 1\n",
    "\n",
    "    if number == 5:\n",
    "        break    # break here\n",
    "\n",
    "    print('Number is ' + str(number))\n",
    "\n",
    "print('Out of loop')"
   ]
  },
  {
   "cell_type": "code",
   "execution_count": 3,
   "metadata": {},
   "outputs": [
    {
     "name": "stdout",
     "output_type": "stream",
     "text": [
      "Number is 1\n",
      "Number is 2\n",
      "Number is 3\n",
      "Number is 4\n",
      "Number is 6\n",
      "Number is 7\n",
      "Number is 8\n",
      "Number is 9\n",
      "Number is 10\n",
      "Out of loop\n"
     ]
    }
   ],
   "source": [
    "# continue statement\n",
    "number = 0\n",
    "\n",
    "for number in range(10):\n",
    "    number = number + 1\n",
    "\n",
    "    if number == 5:\n",
    "        \n",
    "        continue\n",
    "        print(\"**************\")# continue here\n",
    "\n",
    "    print('Number is ' + str(number))\n",
    "\n",
    "print('Out of loop')"
   ]
  },
  {
   "cell_type": "code",
   "execution_count": 1,
   "metadata": {},
   "outputs": [
    {
     "name": "stdout",
     "output_type": "stream",
     "text": [
      "Number is 1\n",
      "Number is 2\n",
      "Number is 3\n",
      "Number is 4\n",
      "**************\n",
      "Number is 5\n",
      "Number is 6\n",
      "Number is 7\n",
      "Number is 8\n",
      "Number is 9\n",
      "Number is 10\n",
      "Out of loop\n"
     ]
    }
   ],
   "source": [
    "# pass statement\n",
    "number = 0\n",
    "\n",
    "for number in range(10):\n",
    "    number = number + 1\n",
    "\n",
    "    if number == 5:\n",
    "        print(\"**************\")\n",
    "        pass     # pass here\n",
    "\n",
    "    print('Number is ' + str(number))\n",
    "\n",
    "print('Out of loop')"
   ]
  },
  {
   "cell_type": "code",
   "execution_count": 1,
   "metadata": {},
   "outputs": [
    {
     "name": "stdout",
     "output_type": "stream",
     "text": [
      "1\n",
      "------------\n",
      "1  2  3  4  5  6  7  8  9  10  11  12  \n",
      "\n",
      "2\n",
      "------------\n",
      "2  4  6  8  10  12  14  16  18  20  22  24  \n",
      "\n",
      "3\n",
      "------------\n",
      "3  6  9  12  15  18  21  24  27  30  33  36  \n",
      "\n",
      "4\n",
      "------------\n",
      "4  8  12  16  20  24  28  32  36  40  44  48  \n",
      "\n",
      "5\n",
      "------------\n",
      "5  10  15  20  25  30  35  40  45  50  55  60  \n",
      "\n",
      "6\n",
      "------------\n",
      "6  12  18  24  30  36  42  48  54  60  66  72  \n",
      "\n",
      "7\n",
      "------------\n",
      "7  14  21  28  35  42  49  56  63  70  77  84  \n",
      "\n",
      "8\n",
      "------------\n",
      "8  16  24  32  40  48  56  64  72  80  88  96  \n",
      "\n",
      "9\n",
      "------------\n",
      "9  18  27  36  45  54  63  72  81  90  99  108  \n",
      "\n",
      "10\n",
      "------------\n",
      "10  20  30  40  50  60  70  80  90  100  110  120  \n",
      "\n",
      "11\n",
      "------------\n",
      "11  22  33  44  55  66  77  88  99  110  121  132  \n",
      "\n",
      "12\n",
      "------------\n",
      "12  24  36  48  60  72  84  96  108  120  132  144  \n",
      "\n"
     ]
    }
   ],
   "source": [
    "#nested loop example\n",
    "\n",
    "#write a program that print time tabel\n",
    "\n",
    "# code\n",
    "for row in range(1,13):\n",
    "    \n",
    "    print(row)\n",
    "    \n",
    "    print(\"------------\")\n",
    "    \n",
    "    for column in range(1,13):\n",
    "        num = row*column\n",
    "        print (num ,end=\"  \")\n",
    "        \n",
    "    print(\"\\n\")\n",
    "    \n",
    "     "
   ]
  },
  {
   "cell_type": "code",
   "execution_count": 9,
   "metadata": {},
   "outputs": [
    {
     "name": "stdout",
     "output_type": "stream",
     "text": [
      " Med term quiz  :200\n",
      " Final quiz :324\n",
      "enter another  numbers\n",
      " Med term quiz  :33453\n",
      " Final quiz :235346\n",
      "enter another  numbers\n",
      " Med term quiz  :24\n",
      " Final quiz :56\n",
      "failed 43.2\n"
     ]
    }
   ],
   "source": [
    "#nested if statements example\n",
    "\n",
    "while 1:\n",
    "    x=float(input(\" Med term quiz  :\"))\n",
    "    y=float(input(\" Final quiz :\"))\n",
    "    if (x<=100 and y<=100 and x>=0 and y>=0):\n",
    "        break\n",
    "    else :print(\"enter another  numbers\")\n",
    "\n",
    "vize=x*0.4\n",
    "final=y*0.6\n",
    "\n",
    "total=vize+final\n",
    "\n",
    "if(total >= 50):\n",
    "    if(total >=90 and total <100):\n",
    "            print(\"successful  AA\",total)\n",
    "    elif(total >=80 and total <90):\n",
    "            print(\"successful  BA\",total)\n",
    "    elif(total >=70 and total <80):\n",
    "            print(\"successful  BB\",total)\n",
    "    elif(total >=60 and total <70):\n",
    "            print(\"successful  CB\",total)\n",
    "    elif(total >=50 and total <60):\n",
    "            print(\"successful  CC\",total)\n",
    "else :\n",
    "    print(\"failed\",total)\n"
   ]
  },
  {
   "cell_type": "code",
   "execution_count": 2,
   "metadata": {},
   "outputs": [
    {
     "name": "stdout",
     "output_type": "stream",
     "text": [
      " is prime 2\n",
      " is prime 3\n",
      " is prime 5\n",
      " is prime 7\n",
      " is prime 11\n",
      " is prime 13\n",
      " is prime 17\n",
      " is prime 19\n",
      " is prime 23\n",
      " is prime 29\n",
      " is prime 31\n",
      " is prime 37\n",
      " is prime 41\n",
      " is prime 43\n",
      " is prime 47\n",
      " is prime 53\n",
      " is prime 59\n",
      " is prime 61\n",
      " is prime 67\n",
      " is prime 71\n",
      " is prime 73\n",
      " is prime 79\n",
      " is prime 83\n",
      " is prime 89\n",
      " is prime 97\n"
     ]
    }
   ],
   "source": [
    "#ToDo\n",
    "#write a program that print Prime numbers between 0 and 100\n",
    "\n",
    "i=2\n",
    "while(i < 100):  #frist loop\n",
    "    j = 2\n",
    "    while(j <= (i/j)): #second loop \n",
    "        if (i%j==0): \n",
    "            break\n",
    "        j = j + 1\n",
    "    if (j > i/j) : \n",
    "        print ( \" is prime\",i)\n",
    "    i = i + 1\n",
    "\n"
   ]
  },
  {
   "cell_type": "code",
   "execution_count": 1,
   "metadata": {},
   "outputs": [
    {
     "name": "stdout",
     "output_type": "stream",
     "text": [
      "Enter a vowel: r\n",
      "That is not a vowel. Try again!\n",
      "Enter a vowel: 3\n",
      "That is not a vowel. Try again!\n",
      "Enter a vowel: 6\n",
      "That is not a vowel. Try again!\n",
      "Enter a vowel: h\n",
      "That is not a vowel. Try again!\n",
      "Enter a vowel: s\n",
      "That is not a vowel. Try again!\n",
      "Enter a vowel: g\n",
      "That is not a vowel. Try again!\n",
      "Enter a vowel: e\n",
      "Thank you!\n"
     ]
    }
   ],
   "source": [
    "#Exampl \n",
    "#write a program to check if the letter is vowel or not\n",
    "\n",
    "vowels = \"aeiouAEIOU\"\n",
    "\n",
    "# infinite loop\n",
    "while True:\n",
    "    v = input(\"Enter a vowel: \")\n",
    "   # condition in the middle\n",
    "    if v in vowels:\n",
    "        break\n",
    "    print(\"That is not a vowel. Try again!\")\n",
    "\n",
    "print(\"Thank you!\")"
   ]
  },
  {
   "cell_type": "code",
   "execution_count": 3,
   "metadata": {},
   "outputs": [
    {
     "name": "stdout",
     "output_type": "stream",
     "text": [
      "Fibonacci sequence upto 10 :\n",
      "0 , 1 , 1 , 2 , 3 , 5 , 8 , 13 , 21 , 34 , "
     ]
    }
   ],
   "source": [
    "#ToDo\n",
    "\n",
    "#write a programe to Print the Fibonacci sequence\n",
    "N=10\n",
    "a=0\n",
    "b=1\n",
    "count=0\n",
    "print(\"Fibonacci sequence upto\",N,\":\")\n",
    "while count < N:\n",
    "            print(a,end=' , ')\n",
    "            nth = a + b\n",
    "            # update values\n",
    "            a = b\n",
    "            b = nth\n",
    "            count += 1"
   ]
  },
  {
   "cell_type": "code",
   "execution_count": null,
   "metadata": {},
   "outputs": [],
   "source": []
  }
 ],
 "metadata": {
  "kernelspec": {
   "display_name": "Python 3",
   "language": "python",
   "name": "python3"
  },
  "language_info": {
   "codemirror_mode": {
    "name": "ipython",
    "version": 3
   },
   "file_extension": ".py",
   "mimetype": "text/x-python",
   "name": "python",
   "nbconvert_exporter": "python",
   "pygments_lexer": "ipython3",
   "version": "3.7.2"
  }
 },
 "nbformat": 4,
 "nbformat_minor": 2
}
